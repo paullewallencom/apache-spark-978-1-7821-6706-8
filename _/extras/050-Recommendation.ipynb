{
 "cells": [
  {
   "cell_type": "markdown",
   "metadata": {
    "collapsed": true
   },
   "source": [
    "## Recommendation"
   ]
  },
  {
   "cell_type": "markdown",
   "metadata": {},
   "source": [
    "###1. Read Movielens 1 Million Data (Medium)\n",
    "###2. Partition data into Train, Validation & Test Datasets (60-20-20)\n",
    "###3. Train ALS Recommender\n",
    "###4. Measure Model Performance\n",
    "###5. Optimize Model parameters viz. Rank, Lambda & Number Of Iterations based on the Validation Dataset\n",
    "###6. Predict optmized Model performance (RMSE) on the Test Data"
   ]
  },
  {
   "cell_type": "code",
   "execution_count": 10,
   "metadata": {
    "collapsed": false
   },
   "outputs": [
    {
     "name": "stdout",
     "output_type": "stream",
     "text": [
      "Running Spark Version 1.4.1\n"
     ]
    }
   ],
   "source": [
    "from pyspark.context import SparkContext\n",
    "print \"Running Spark Version %s\" % (sc.version)"
   ]
  },
  {
   "cell_type": "code",
   "execution_count": 11,
   "metadata": {
    "collapsed": false
   },
   "outputs": [
    {
     "name": "stdout",
     "output_type": "stream",
     "text": [
      "spark.app.name=pyspark-shell\n",
      "spark.files=file:/Users/ksankar/.ivy2/jars/com.databricks_spark-csv_2.11-1.0.3.jar,file:/Users/ksankar/.ivy2/jars/org.apache.commons_commons-csv-1.1.jar\n",
      "spark.jars=file:/Users/ksankar/.ivy2/jars/com.databricks_spark-csv_2.11-1.0.3.jar,file:/Users/ksankar/.ivy2/jars/org.apache.commons_commons-csv-1.1.jar\n",
      "spark.master=local[*]\n",
      "spark.submit.pyFiles=/Users/ksankar/.ivy2/jars/com.databricks_spark-csv_2.11-1.0.3.jar,/Users/ksankar/.ivy2/jars/org.apache.commons_commons-csv-1.1.jar\n"
     ]
    }
   ],
   "source": [
    "from pyspark.conf import SparkConf\n",
    "conf = SparkConf()\n",
    "print conf.toDebugString()"
   ]
  },
  {
   "cell_type": "code",
   "execution_count": 12,
   "metadata": {
    "collapsed": false
   },
   "outputs": [
    {
     "data": {
      "text/plain": [
       "3883"
      ]
     },
     "execution_count": 12,
     "metadata": {},
     "output_type": "execute_result"
    }
   ],
   "source": [
    "movies_file = sc.textFile(\"movielens/medium/movies.dat\")\n",
    "movies_rdd = movies_file.map(lambda line: line.split('::'))\n",
    "movies_rdd.count()"
   ]
  },
  {
   "cell_type": "code",
   "execution_count": 13,
   "metadata": {
    "collapsed": false
   },
   "outputs": [
    {
     "data": {
      "text/plain": [
       "[u'1', u'Toy Story (1995)', u\"Animation|Children's|Comedy\"]"
      ]
     },
     "execution_count": 13,
     "metadata": {},
     "output_type": "execute_result"
    }
   ],
   "source": [
    "movies_rdd.first()"
   ]
  },
  {
   "cell_type": "code",
   "execution_count": 14,
   "metadata": {
    "collapsed": false
   },
   "outputs": [
    {
     "data": {
      "text/plain": [
       "1000209"
      ]
     },
     "execution_count": 14,
     "metadata": {},
     "output_type": "execute_result"
    }
   ],
   "source": [
    "ratings_file = sc.textFile(\"movielens/medium/ratings.dat\")\n",
    "ratings_rdd = ratings_file.map(lambda line: line.split('::'))\n",
    "ratings_rdd.count()"
   ]
  },
  {
   "cell_type": "code",
   "execution_count": 15,
   "metadata": {
    "collapsed": false
   },
   "outputs": [
    {
     "data": {
      "text/plain": [
       "[u'1', u'1193', u'5', u'978300760']"
      ]
     },
     "execution_count": 15,
     "metadata": {},
     "output_type": "execute_result"
    }
   ],
   "source": [
    "ratings_rdd.first()"
   ]
  },
  {
   "cell_type": "code",
   "execution_count": 16,
   "metadata": {
    "collapsed": false
   },
   "outputs": [],
   "source": [
    "def parse_ratings(x):\n",
    "    user_id = int(x[0])\n",
    "    movie_id = int(x[1])\n",
    "    rating = float(x[2])\n",
    "    timestamp = int(x[3])/10\n",
    "    return [user_id,movie_id,rating,timestamp]"
   ]
  },
  {
   "cell_type": "code",
   "execution_count": 17,
   "metadata": {
    "collapsed": false
   },
   "outputs": [
    {
     "data": {
      "text/plain": [
       "1000209"
      ]
     },
     "execution_count": 17,
     "metadata": {},
     "output_type": "execute_result"
    }
   ],
   "source": [
    "ratings_rdd_01 = ratings_rdd.map(lambda x: parse_ratings(x))\n",
    "ratings_rdd_01.count()"
   ]
  },
  {
   "cell_type": "code",
   "execution_count": 18,
   "metadata": {
    "collapsed": false
   },
   "outputs": [
    {
     "data": {
      "text/plain": [
       "[1, 1193, 5.0, 97830076]"
      ]
     },
     "execution_count": 18,
     "metadata": {},
     "output_type": "execute_result"
    }
   ],
   "source": [
    "ratings_rdd_01.first()"
   ]
  },
  {
   "cell_type": "code",
   "execution_count": 19,
   "metadata": {
    "collapsed": false
   },
   "outputs": [
    {
     "name": "stdout",
     "output_type": "stream",
     "text": [
      "Got 1000209 ratings from 6040 users on 3706 movies.\n"
     ]
    }
   ],
   "source": [
    "numRatings = ratings_rdd_01.count()\n",
    "numUsers = ratings_rdd_01.map(lambda r: r[0]).distinct().count()\n",
    "numMovies = ratings_rdd_01.map(lambda r: r[1]).distinct().count()\n",
    "\n",
    "print \"Got %d ratings from %d users on %d movies.\" % (numRatings, numUsers, numMovies)"
   ]
  },
  {
   "cell_type": "markdown",
   "metadata": {},
   "source": [
    "###A quick scheme to partition the training, validation & test datasets\n",
    "#### Timestamp ending with [6,8) = Validation\n",
    "#### Timestamp ending with [8,9] = Test (ie >= 8)\n",
    "#### Rest = Train\n",
    "\n",
    "#### Approx: Training = 60%, Validation = 20%, Test = 20%"
   ]
  },
  {
   "cell_type": "markdown",
   "metadata": {},
   "source": [
    "#Coding Exercise\n",
    "### Partition Data"
   ]
  },
  {
   "cell_type": "code",
   "execution_count": 20,
   "metadata": {
    "collapsed": false
   },
   "outputs": [
    {
     "name": "stdout",
     "output_type": "stream",
     "text": [
      "Training: 600069, validation: 199985, test: 200155\n",
      "Elapsed : 27.115611\n"
     ]
    }
   ],
   "source": [
    "import time\n",
    "start_time = time.time()\n",
    "training = ratings_rdd_01.filter(lambda x: (x[3] % 10) < 6)\n",
    "validation = ratings_rdd_01.filter(lambda x: (x[3] % 10) >= 6 and (x[3] % 10) < 8)\n",
    "test = ratings_rdd_01.filter(lambda x: (x[3] % 10) >= 8)\n",
    "numTraining = training.count()\n",
    "numValidation = validation.count()\n",
    "numTest = test.count()\n",
    "print \"Training: %d, validation: %d, test: %d\" % (numTraining, numValidation, numTest)\n",
    "print \"Elapsed : %f\" % (time.time() - start_time)"
   ]
  },
  {
   "cell_type": "code",
   "execution_count": 21,
   "metadata": {
    "collapsed": false
   },
   "outputs": [
    {
     "name": "stdout",
     "output_type": "stream",
     "text": [
      "Elapsed : 33.156755\n",
      "<pyspark.mllib.recommendation.MatrixFactorizationModel object at 0x1036e0d10>\n"
     ]
    }
   ],
   "source": [
    "from pyspark.mllib.recommendation import ALS\n",
    "rank = 10\n",
    "numIterations = 20\n",
    "train_data = training.map(lambda p: (p[0], p[1], p[2]))\n",
    "start_time = time.time()\n",
    "model = ALS.train(train_data, rank, numIterations)\n",
    "print \"Elapsed : %f\" % (time.time() - start_time)\n",
    "print model"
   ]
  },
  {
   "cell_type": "markdown",
   "metadata": {},
   "source": [
    "###In order to calculate model performance we need a keypair with key=(userID, movieID), value=(pred,actual)\n",
    "#### Then we can do calculations on the Predicted vs Actual values"
   ]
  },
  {
   "cell_type": "code",
   "execution_count": 22,
   "metadata": {
    "collapsed": false
   },
   "outputs": [
    {
     "data": {
      "text/plain": [
       "199943"
      ]
     },
     "execution_count": 22,
     "metadata": {},
     "output_type": "execute_result"
    }
   ],
   "source": [
    "# Evaluate the model on validation data\n",
    "validation_data = validation.map(lambda p: (p[0], p[1]))\n",
    "predictions = model.predictAll(validation_data).map(lambda r: ((r[0], r[1]), r[2]))\n",
    "predictions.count()"
   ]
  },
  {
   "cell_type": "code",
   "execution_count": 23,
   "metadata": {
    "collapsed": false
   },
   "outputs": [
    {
     "data": {
      "text/plain": [
       "((5428, 1084), 4.931647896469278)"
      ]
     },
     "execution_count": 23,
     "metadata": {},
     "output_type": "execute_result"
    }
   ],
   "source": [
    "predictions.first()"
   ]
  },
  {
   "cell_type": "markdown",
   "metadata": {},
   "source": [
    "###Now let us turn the Validation data to KV pair"
   ]
  },
  {
   "cell_type": "code",
   "execution_count": 24,
   "metadata": {
    "collapsed": false
   },
   "outputs": [
    {
     "data": {
      "text/plain": [
       "(1, 1193)"
      ]
     },
     "execution_count": 24,
     "metadata": {},
     "output_type": "execute_result"
    }
   ],
   "source": [
    "validation_data.first()"
   ]
  },
  {
   "cell_type": "code",
   "execution_count": 25,
   "metadata": {
    "collapsed": false
   },
   "outputs": [
    {
     "data": {
      "text/plain": [
       "[1, 1193, 5.0, 97830076]"
      ]
     },
     "execution_count": 25,
     "metadata": {},
     "output_type": "execute_result"
    }
   ],
   "source": [
    "validation.first()"
   ]
  },
  {
   "cell_type": "code",
   "execution_count": 26,
   "metadata": {
    "collapsed": false
   },
   "outputs": [
    {
     "name": "stdout",
     "output_type": "stream",
     "text": [
      "199985\n"
     ]
    },
    {
     "data": {
      "text/plain": [
       "((1, 1193), 5.0)"
      ]
     },
     "execution_count": 26,
     "metadata": {},
     "output_type": "execute_result"
    }
   ],
   "source": [
    "validation_key_rdd = validation.map(lambda r: ((r[0], r[1]), r[2]))\n",
    "print validation_key_rdd.count()\n",
    "validation_key_rdd.first()"
   ]
  },
  {
   "cell_type": "code",
   "execution_count": 27,
   "metadata": {
    "collapsed": false
   },
   "outputs": [
    {
     "data": {
      "text/plain": [
       "199943"
      ]
     },
     "execution_count": 27,
     "metadata": {},
     "output_type": "execute_result"
    }
   ],
   "source": [
    "#ratesAndPreds = validation.map(lambda r: ((r[0], r[1]), r[2])).join(predictions)\n",
    "ratesAndPreds = validation_key_rdd.join(predictions)\n",
    "ratesAndPreds.count()"
   ]
  },
  {
   "cell_type": "code",
   "execution_count": 28,
   "metadata": {
    "collapsed": false
   },
   "outputs": [
    {
     "data": {
      "text/plain": [
       "((2026, 3364), (4.0, 3.861367532170932))"
      ]
     },
     "execution_count": 28,
     "metadata": {},
     "output_type": "execute_result"
    }
   ],
   "source": [
    "ratesAndPreds.first()"
   ]
  },
  {
   "cell_type": "markdown",
   "metadata": {},
   "source": [
    "### Now we have the values where we want them !"
   ]
  },
  {
   "cell_type": "code",
   "execution_count": 29,
   "metadata": {
    "collapsed": false
   },
   "outputs": [
    {
     "name": "stdout",
     "output_type": "stream",
     "text": [
      "Mean Squared Error = 0.882677652449\n"
     ]
    }
   ],
   "source": [
    "MSE = ratesAndPreds.map(lambda r: (r[1][0] - r[1][1])**2).reduce(lambda x, y: x + y)/ratesAndPreds.count()\n",
    "print(\"Mean Squared Error = \" + str(MSE))"
   ]
  },
  {
   "cell_type": "code",
   "execution_count": 30,
   "metadata": {
    "collapsed": false
   },
   "outputs": [],
   "source": [
    "# 1.4.0 Mean Squared Error = 0.876346112824\n",
    "# 1.3.0 Mean Squared Error = 0.871456869392\n",
    "# 1.2.1 Mean Squared Error = 0.877305629074"
   ]
  },
  {
   "cell_type": "markdown",
   "metadata": {},
   "source": [
    "# Advanced - to try later *** system will hang if it has less memory"
   ]
  },
  {
   "cell_type": "markdown",
   "metadata": {},
   "source": [
    "### Validation Run\n",
    "#### Let us use the Validation Data to optimize Rank, Lambda & Number Of Iterations\n",
    "#### And Predict the model performance using our test data"
   ]
  },
  {
   "cell_type": "code",
   "execution_count": 31,
   "metadata": {
    "collapsed": false
   },
   "outputs": [],
   "source": [
    "def computeRmse(model, data, n):\n",
    "    \"\"\"\n",
    "    Compute RMSE (Root Mean Squared Error).\n",
    "    \"\"\"\n",
    "    predictions = model.predictAll(data.map(lambda x: (x[0], x[1])))\n",
    "    predictionsAndRatings = predictions.map(lambda x: ((x[0], x[1]), x[2])) \\\n",
    "      .join(data.map(lambda x: ((x[0], x[1]), x[2]))) \\\n",
    "      .values()\n",
    "    return sqrt(predictionsAndRatings.map(lambda x: (x[0] - x[1]) ** 2).reduce(add) / float(n))"
   ]
  },
  {
   "cell_type": "code",
   "execution_count": 32,
   "metadata": {
    "collapsed": false
   },
   "outputs": [
    {
     "name": "stdout",
     "output_type": "stream",
     "text": [
      "RMSE (validation) = 0.877626 for the model trained with rank = 8, lambda = 0.1, and numIter = 10.\n",
      "RMSE (validation) = 0.870811 for the model trained with rank = 8, lambda = 0.1, and numIter = 20.\n",
      "RMSE (validation) = 1.356134 for the model trained with rank = 8, lambda = 1.0, and numIter = 10.\n",
      "RMSE (validation) = 1.356134 for the model trained with rank = 8, lambda = 1.0, and numIter = 20.\n",
      "RMSE (validation) = 3.749258 for the model trained with rank = 8, lambda = 10.0, and numIter = 10.\n",
      "RMSE (validation) = 3.749258 for the model trained with rank = 8, lambda = 10.0, and numIter = 20.\n",
      "RMSE (validation) = 0.876632 for the model trained with rank = 12, lambda = 0.1, and numIter = 10.\n",
      "RMSE (validation) = 0.869355 for the model trained with rank = 12, lambda = 0.1, and numIter = 20.\n",
      "RMSE (validation) = 1.356134 for the model trained with rank = 12, lambda = 1.0, and numIter = 10.\n",
      "RMSE (validation) = 1.356134 for the model trained with rank = 12, lambda = 1.0, and numIter = 20.\n",
      "RMSE (validation) = 3.749258 for the model trained with rank = 12, lambda = 10.0, and numIter = 10.\n",
      "RMSE (validation) = 3.749258 for the model trained with rank = 12, lambda = 10.0, and numIter = 20.\n",
      "The best model was trained with rank = 12 and lambda = 0.1, and numIter = 20, and its RMSE on the test set is 0.868974.\n",
      "Elapsed : 464.607150\n"
     ]
    }
   ],
   "source": [
    "import itertools\n",
    "from math import sqrt\n",
    "from operator import add\n",
    "ranks = [8, 12]\n",
    "lambdas = [0.1, 1.0, 10.0]\n",
    "numIters = [10, 20]\n",
    "bestModel = None\n",
    "bestValidationRmse = float(\"inf\")\n",
    "bestRank = 0\n",
    "bestLambda = -1.0\n",
    "bestNumIter = -1\n",
    "start_time = time.time()\n",
    "for rank, lmbda, numIter in itertools.product(ranks, lambdas, numIters):\n",
    "    model = ALS.train(train_data, rank, numIter, lmbda)\n",
    "    validationRmse = computeRmse(model, validation, numValidation)\n",
    "    print \"RMSE (validation) = %f for the model trained with \" % validationRmse + \\\n",
    "          \"rank = %d, lambda = %.1f, and numIter = %d.\" % (rank, lmbda, numIter)\n",
    "    if (validationRmse < bestValidationRmse):\n",
    "        bestModel = model\n",
    "        bestValidationRmse = validationRmse\n",
    "        bestRank = rank\n",
    "        bestLambda = lmbda\n",
    "        bestNumIter = numIter\n",
    "\n",
    "testRmse = computeRmse(bestModel, test, numTest)\n",
    "\n",
    "# evaluate the best model on the test set\n",
    "print \"Best model was trained with rank = %d and lambda = %.1f, \" % (bestRank, bestLambda) \\\n",
    "  + \"and numIter = %d, and its RMSE on the test set is %f.\" % (bestNumIter, testRmse)\n",
    "print \"Elapsed : %f\" % (time.time() - start_time)"
   ]
  },
  {
   "cell_type": "code",
   "execution_count": null,
   "metadata": {
    "collapsed": false
   },
   "outputs": [],
   "source": []
  }
 ],
 "metadata": {
  "kernelspec": {
   "display_name": "Python 2",
   "language": "python",
   "name": "python2"
  },
  "language_info": {
   "codemirror_mode": {
    "name": "ipython",
    "version": 2
   },
   "file_extension": ".py",
   "mimetype": "text/x-python",
   "name": "python",
   "nbconvert_exporter": "python",
   "pygments_lexer": "ipython2",
   "version": "2.7.10"
  }
 },
 "nbformat": 4,
 "nbformat_minor": 0
}
