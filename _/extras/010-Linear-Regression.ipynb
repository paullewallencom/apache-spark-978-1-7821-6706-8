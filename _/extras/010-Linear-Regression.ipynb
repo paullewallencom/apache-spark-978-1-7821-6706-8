{
 "cells": [
  {
   "cell_type": "markdown",
   "metadata": {},
   "source": [
    "## Statistics & Linear Regression\n",
    "\n",
    "### In this session you will have an opportunity to interact with the MLlib for Statistics & Linear Regression\n",
    "1. Read a CSV file to a DataFrame\n",
    "2. Convert to rdd\n",
    "2. Do some basic Stats - mean, sd\n",
    "3. Exercise on Correlation\n",
    "4. Linear Regression mpg ~ .\n",
    "4. Lasso & Ridge Regression\n",
    "\n",
    "The Coding Exercises would give a good start"
   ]
  },
  {
   "cell_type": "code",
   "execution_count": 1,
   "metadata": {
    "collapsed": false,
    "scrolled": true
   },
   "outputs": [
    {
     "name": "stdout",
     "output_type": "stream",
     "text": [
      "Running Spark Version 1.6.0\n"
     ]
    }
   ],
   "source": [
    "from pyspark.context import SparkContext\n",
    "print \"Running Spark Version %s\" % (sc.version)"
   ]
  },
  {
   "cell_type": "code",
   "execution_count": 2,
   "metadata": {
    "collapsed": false,
    "scrolled": false
   },
   "outputs": [
    {
     "name": "stdout",
     "output_type": "stream",
     "text": [
      "spark.app.name=PySparkShell\n",
      "spark.files=file:/Users/ksankar/.ivy2/jars/com.databricks_spark-csv_2.10-1.3.0.jar,file:/Users/ksankar/.ivy2/jars/org.apache.commons_commons-csv-1.1.jar,file:/Users/ksankar/.ivy2/jars/com.univocity_univocity-parsers-1.5.1.jar\n",
      "spark.jars=file:/Users/ksankar/.ivy2/jars/com.databricks_spark-csv_2.10-1.3.0.jar,file:/Users/ksankar/.ivy2/jars/org.apache.commons_commons-csv-1.1.jar,file:/Users/ksankar/.ivy2/jars/com.univocity_univocity-parsers-1.5.1.jar\n",
      "spark.master=local[*]\n",
      "spark.submit.deployMode=client\n",
      "spark.submit.pyFiles=/Users/ksankar/.ivy2/jars/com.databricks_spark-csv_2.10-1.3.0.jar,/Users/ksankar/.ivy2/jars/org.apache.commons_commons-csv-1.1.jar,/Users/ksankar/.ivy2/jars/com.univocity_univocity-parsers-1.5.1.jar\n"
     ]
    }
   ],
   "source": [
    "from pyspark.conf import SparkConf\n",
    "conf = SparkConf()\n",
    "print conf.toDebugString()"
   ]
  },
  {
   "cell_type": "code",
   "execution_count": 3,
   "metadata": {
    "collapsed": false,
    "scrolled": false
   },
   "outputs": [
    {
     "name": "stdout",
     "output_type": "stream",
     "text": [
      "Last run @2015-12-17 21:35:58.641509-08:00\n"
     ]
    }
   ],
   "source": [
    "import datetime\n",
    "from pytz import timezone\n",
    "print \"Last run @%s\" % (datetime.datetime.now(timezone('US/Pacific')))"
   ]
  },
  {
   "cell_type": "code",
   "execution_count": 4,
   "metadata": {
    "collapsed": true
   },
   "outputs": [],
   "source": [
    "df_cars = sqlContext.read.load('cars_1.parquet')"
   ]
  },
  {
   "cell_type": "code",
   "execution_count": 5,
   "metadata": {
    "collapsed": false,
    "scrolled": false
   },
   "outputs": [
    {
     "data": {
      "text/plain": [
       "32"
      ]
     },
     "execution_count": 5,
     "metadata": {},
     "output_type": "execute_result"
    }
   ],
   "source": [
    "df_cars.count()"
   ]
  },
  {
   "cell_type": "code",
   "execution_count": 6,
   "metadata": {
    "collapsed": false,
    "scrolled": false
   },
   "outputs": [
    {
     "name": "stdout",
     "output_type": "stream",
     "text": [
      "+-----+------------+---+------+------+-------+------------+---------+------+-----+------+---------+\n",
      "|  mpg|displacement| hp|torque|CRatio|RARatio|CarbBarrells|NoOfSpeed|length|width|weight|automatic|\n",
      "+-----+------------+---+------+------+-------+------------+---------+------+-----+------+---------+\n",
      "| 18.9|       350.0|165|   260|   8.0|   2.56|           4|        3| 200.3| 69.9|  3910|        1|\n",
      "| 17.0|       350.0|170|   275|   8.5|   2.56|           4|        3| 199.6| 72.9|  3860|        1|\n",
      "| 20.0|       250.0|105|   185|  8.25|   2.73|           1|        3| 196.7| 72.2|  3510|        1|\n",
      "|18.25|       351.0|143|   255|   8.0|    3.0|           2|        3| 199.9| 74.0|  3890|        1|\n",
      "|20.07|       225.0| 95|   170|   8.4|   2.76|           1|        3| 194.1| 71.8|  3365|        0|\n",
      "| 11.2|       440.0|215|   330|   8.2|   2.88|           4|        3| 184.5| 69.0|  4215|        1|\n",
      "|22.12|       231.0|110|   175|   8.0|   2.56|           2|        3| 179.3| 65.4|  3020|        1|\n",
      "|21.47|       262.0|110|   200|   8.5|   2.56|           2|        3| 179.3| 65.4|  3180|        1|\n",
      "| 34.7|        89.7| 70|    81|   8.2|    3.9|           2|        4| 155.7| 64.0|  1905|        0|\n",
      "| 30.4|        96.9| 75|    83|   9.0|    4.3|           2|        5| 165.2| 65.0|  2320|        0|\n",
      "| 16.5|       350.0|155|   250|   8.5|   3.08|           4|        3| 195.4| 74.4|  3885|        1|\n",
      "| 36.5|        85.3| 80|    83|   8.5|   3.89|           2|        4| 160.6| 62.2|  2009|        0|\n",
      "| 21.5|       171.0|109|   146|   8.2|   3.22|           2|        4| 170.4| 66.9|  2655|        0|\n",
      "| 19.7|       258.0|110|   195|   8.0|   3.08|           1|        3| 171.5| 77.0|  3375|        1|\n",
      "| 20.3|       140.0| 83|   109|   8.4|    3.4|           2|        4| 168.8| 69.4|  2700|        0|\n",
      "| 17.8|       302.0|129|   220|   8.0|    3.0|           2|        3| 199.9| 74.0|  3890|        1|\n",
      "|14.39|       500.0|190|   360|   8.5|   2.73|           4|        3| 224.1| 79.8|  5290|        1|\n",
      "|14.89|       440.0|215|   330|   8.2|   2.71|           4|        3| 231.0| 79.7|  5185|        1|\n",
      "| 17.8|       350.0|155|   250|   8.5|   3.08|           4|        3| 196.7| 72.2|  3910|        1|\n",
      "|16.41|       318.0|145|   255|   8.5|   2.45|           2|        3| 197.6| 71.0|  3660|        1|\n",
      "|23.54|       231.0|110|   175|   8.0|   2.56|           2|        3| 179.3| 65.4|  3050|        1|\n",
      "|21.47|       360.0|180|   290|   8.4|   2.45|           2|        3| 214.2| 76.3|  4250|        1|\n",
      "|16.59|       400.0|185|  null|   7.6|   3.08|           4|        3| 196.0| 73.0|  3850|        1|\n",
      "| 31.9|        96.9| 75|    83|   9.0|    4.3|           2|        5| 165.2| 61.8|  2275|        0|\n",
      "| 29.4|       140.0| 86|  null|   8.0|   2.92|           2|        4| 176.4| 65.4|  2150|        0|\n",
      "|13.27|       460.0|223|   366|   8.0|    3.0|           4|        3| 228.0| 79.8|  5430|        1|\n",
      "| 23.9|       133.6| 96|   120|   8.4|   3.91|           2|        5| 171.5| 63.4|  2535|        0|\n",
      "|19.73|       318.0|140|   255|   8.5|   2.71|           2|        3| 215.3| 76.3|  4370|        1|\n",
      "| 13.9|       351.0|148|   243|   8.0|   3.25|           2|        3| 215.5| 78.5|  4540|        1|\n",
      "|13.27|       351.0|148|   243|   8.0|   3.26|           2|        3| 216.1| 78.5|  4715|        1|\n",
      "|13.77|       360.0|195|   295|  8.25|   3.15|           4|        3| 209.3| 77.4|  4215|        1|\n",
      "| 16.5|       360.0|165|   255|   8.5|   2.73|           4|        3| 185.2| 69.0|  3660|        1|\n",
      "+-----+------------+---+------+------+-------+------------+---------+------+-----+------+---------+\n",
      "\n"
     ]
    }
   ],
   "source": [
    "df_cars.show(40)"
   ]
  },
  {
   "cell_type": "code",
   "execution_count": 7,
   "metadata": {
    "collapsed": true
   },
   "outputs": [],
   "source": [
    "df_cars = df_cars.na.drop()"
   ]
  },
  {
   "cell_type": "code",
   "execution_count": 8,
   "metadata": {
    "collapsed": false
   },
   "outputs": [],
   "source": [
    "cars_rdd = df_cars.map(lambda x:[x])"
   ]
  },
  {
   "cell_type": "code",
   "execution_count": 9,
   "metadata": {
    "collapsed": false
   },
   "outputs": [
    {
     "data": {
      "text/plain": [
       "[[Row(mpg=18.9, displacement=350.0, hp=165, torque=260, CRatio=8.0, RARatio=2.559999942779541, CarbBarrells=4, NoOfSpeed=3, length=200.3000030517578, width=69.9000015258789, weight=3910, automatic=1)]]"
      ]
     },
     "execution_count": 9,
     "metadata": {},
     "output_type": "execute_result"
    }
   ],
   "source": [
    "cars_rdd.take(1)"
   ]
  },
  {
   "cell_type": "code",
   "execution_count": 10,
   "metadata": {
    "collapsed": false,
    "scrolled": false
   },
   "outputs": [],
   "source": [
    "from pyspark.mllib.stat import Statistics\n",
    "summary = Statistics.colStats(cars_rdd)"
   ]
  },
  {
   "cell_type": "code",
   "execution_count": 11,
   "metadata": {
    "collapsed": false,
    "scrolled": false
   },
   "outputs": [
    {
     "name": "stdout",
     "output_type": "stream",
     "text": [
      "<pyspark.mllib.stat._statistics.MultivariateStatisticalSummary object at 0x1061ca610>\n"
     ]
    }
   ],
   "source": [
    "print str(summary)"
   ]
  },
  {
   "cell_type": "code",
   "execution_count": 12,
   "metadata": {
    "collapsed": false
   },
   "outputs": [
    {
     "data": {
      "text/plain": [
       "array([  1.12000000e+01,   8.53000000e+01,   7.00000000e+01,\n",
       "         8.10000000e+01,   8.00000000e+00,   2.45000005e+00,\n",
       "         1.00000000e+00,   3.00000000e+00,   1.55699997e+02,\n",
       "         6.17999992e+01,   1.90500000e+03,   0.00000000e+00])"
      ]
     },
     "execution_count": 12,
     "metadata": {},
     "output_type": "execute_result"
    }
   ],
   "source": [
    "summary.min()"
   ]
  },
  {
   "cell_type": "code",
   "execution_count": 13,
   "metadata": {
    "collapsed": false,
    "scrolled": false
   },
   "outputs": [
    {
     "name": "stdout",
     "output_type": "stream",
     "text": [
      "| 11.20 | 85.30 | 70.00 | 81.00 |  8.00 |  2.45 |  1.00 |  3.00 |155.70 | 61.80 |1905.00 |  0.00\n",
      "| 20.04 |286.05 |136.97 |217.90 |  8.31 |  3.06 |  2.57 |  3.33 |192.34 | 71.42 |3625.80 |  0.73\n",
      "| 36.50 |500.00 |223.00 |366.00 |  9.00 |  4.30 |  4.00 |  5.00 |231.00 | 79.80 |5430.00 |  1.00\n"
     ]
    }
   ],
   "source": [
    "for x in summary.min():\n",
    "    print \"|%6.2f\" % x,\n",
    "print\n",
    "for x in summary.mean():\n",
    "    print \"|%6.2f\" % x,\n",
    "print\n",
    "for x in summary.max():\n",
    "    print \"|%6.2f\" % x,\n",
    "print"
   ]
  },
  {
   "cell_type": "markdown",
   "metadata": {},
   "source": [
    "### Capculate & Plot Correlations"
   ]
  },
  {
   "cell_type": "code",
   "execution_count": 14,
   "metadata": {
    "collapsed": false,
    "scrolled": false
   },
   "outputs": [
    {
     "name": "stdout",
     "output_type": "stream",
     "text": [
      "0.888\n",
      "0.874\n"
     ]
    }
   ],
   "source": [
    "hp = cars_rdd.map(lambda x: x[0][2])\n",
    "weight = cars_rdd.map(lambda x: x[0][10])\n",
    "print '%2.3f' % Statistics.corr(hp, weight, method=\"pearson\")\n",
    "print '%2.3f' % Statistics.corr(hp, weight, method=\"spearman\")"
   ]
  },
  {
   "cell_type": "code",
   "execution_count": 15,
   "metadata": {
    "collapsed": false
   },
   "outputs": [
    {
     "name": "stdout",
     "output_type": "stream",
     "text": [
      "PythonRDD[42] at RDD at PythonRDD.scala:43\n"
     ]
    }
   ],
   "source": [
    "print hp"
   ]
  },
  {
   "cell_type": "code",
   "execution_count": 16,
   "metadata": {
    "collapsed": false
   },
   "outputs": [
    {
     "name": "stderr",
     "output_type": "stream",
     "text": [
      "//anaconda/lib/python2.7/site-packages/matplotlib/collections.py:590: FutureWarning: elementwise comparison failed; returning scalar instead, but in the future will perform elementwise comparison\n",
      "  if self._edgecolors == str('face'):\n"
     ]
    },
    {
     "data": {
      "image/png": "[encoded data removed]",
      "text/plain": [
       "<matplotlib.figure.Figure at 0x109a56790>"
      ]
     },
     "metadata": {},
     "output_type": "display_data"
    },
    {
     "data": {
      "text/plain": [
       "<ggplot: (278550125)>"
      ]
     },
     "execution_count": 16,
     "metadata": {},
     "output_type": "execute_result"
    }
   ],
   "source": [
    "import pandas as pd\n",
    "from ggplot import *\n",
    "%matplotlib inline\n",
    "\n",
    "df = pd.DataFrame({'HP': hp.collect(),'Weight':weight.collect()})\n",
    "\n",
    "ggplot(df, aes(x='HP', y='Weight')) +\\\n",
    "  geom_point() + labs(title=\"Car-Attributes\", x=\"Horsepower\", y=\"Weight\")"
   ]
  },
  {
   "cell_type": "markdown",
   "metadata": {},
   "source": [
    "### Coding Excrcise\n",
    "1. Calculate the correlation between Rear Axle Ratio & the Width\n",
    "2. Plot & verify"
   ]
  },
  {
   "cell_type": "code",
   "execution_count": 17,
   "metadata": {
    "collapsed": false,
    "scrolled": false
   },
   "outputs": [
    {
     "name": "stdout",
     "output_type": "stream",
     "text": [
      "-0.453\n",
      "-0.244\n"
     ]
    }
   ],
   "source": [
    "ra_ratio = cars_rdd.map(lambda x: x[0][5])\n",
    "width = cars_rdd.map(lambda x: x[0][9])\n",
    "print '%2.3f' % Statistics.corr(ra_ratio, width, method=\"pearson\")\n",
    "print '%2.3f' % Statistics.corr(ra_ratio, width, method=\"spearman\")"
   ]
  },
  {
   "cell_type": "code",
   "execution_count": 18,
   "metadata": {
    "collapsed": false
   },
   "outputs": [
    {
     "data": {
      "image/png": "[encoded data removed]",
      "text/plain": [
       "<matplotlib.figure.Figure at 0x109a56210>"
      ]
     },
     "metadata": {},
     "output_type": "display_data"
    },
    {
     "data": {
      "text/plain": [
       "<ggplot: (275214349)>"
      ]
     },
     "execution_count": 18,
     "metadata": {},
     "output_type": "execute_result"
    }
   ],
   "source": [
    "df = pd.DataFrame({'RA Ratio': ra_ratio.collect(),'Width':width.collect()})\n",
    "\n",
    "ggplot(df, aes(x='RA Ratio', y='Width')) +\\\n",
    "  geom_point() + labs(title=\"Car-Attributes\", x=\"RA Ratio\", y=\"Width\")"
   ]
  },
  {
   "cell_type": "markdown",
   "metadata": {},
   "source": [
    "# Linear Regression"
   ]
  },
  {
   "cell_type": "code",
   "execution_count": 19,
   "metadata": {
    "collapsed": false,
    "scrolled": false
   },
   "outputs": [],
   "source": [
    "from pyspark.mllib.regression import LabeledPoint\n",
    "from pyspark.mllib.regression import LinearRegressionWithSGD\n",
    "from pyspark.mllib.regression import LassoWithSGD\n",
    "from pyspark.mllib.regression import RidgeRegressionWithSGD\n",
    "from numpy import array"
   ]
  },
  {
   "cell_type": "code",
   "execution_count": 20,
   "metadata": {
    "collapsed": false,
    "scrolled": false
   },
   "outputs": [
    {
     "name": "stdout",
     "output_type": "stream",
     "text": [
      "(weights=[1.0], intercept=0.0)\n",
      "[1.0]\n",
      "0.0\n"
     ]
    },
    {
     "data": {
      "text/plain": [
       "40.0"
      ]
     },
     "execution_count": 20,
     "metadata": {},
     "output_type": "execute_result"
    }
   ],
   "source": [
    "data = [\n",
    "   LabeledPoint(0.0, [0.0]),\n",
    "   LabeledPoint(10.0, [10.0]),\n",
    "   LabeledPoint(20.0, [20.0]),\n",
    "   LabeledPoint(30.0, [30.0])\n",
    "]\n",
    "lrm = LinearRegressionWithSGD.train(sc.parallelize(data), initialWeights=array([1.0]))\n",
    "print lrm\n",
    "print lrm.weights\n",
    "print lrm.intercept\n",
    "lrm.predict([40])"
   ]
  },
  {
   "cell_type": "code",
   "execution_count": 21,
   "metadata": {
    "collapsed": false,
    "scrolled": false
   },
   "outputs": [
    {
     "name": "stdout",
     "output_type": "stream",
     "text": [
      "Mean Squared Error = 0.0\n"
     ]
    }
   ],
   "source": [
    "data_test = [\n",
    "   LabeledPoint(5.0, [5.0]),\n",
    "   LabeledPoint(15.0, [15.0]),\n",
    "   LabeledPoint(25.0, [25.0]),\n",
    "   LabeledPoint(35.0, [35.0])\n",
    "]\n",
    "data_test_rdd = sc.parallelize(data_test)\n",
    "valuesAndPreds = data_test_rdd.map(lambda p: (p.label, lrm.predict(p.features)))\n",
    "#\n",
    "MSE = valuesAndPreds.map(lambda (v, p): (v - p)**2).reduce(lambda x, y: x + y) / valuesAndPreds.count()\n",
    "print(\"Mean Squared Error = \" + str(MSE))"
   ]
  },
  {
   "cell_type": "code",
   "execution_count": 22,
   "metadata": {
    "collapsed": false,
    "scrolled": false
   },
   "outputs": [
    {
     "data": {
      "text/plain": [
       "[(5.0, 5.0), (15.0, 15.0), (25.0, 25.0), (35.0, 35.0)]"
      ]
     },
     "execution_count": 22,
     "metadata": {},
     "output_type": "execute_result"
    }
   ],
   "source": [
    "valuesAndPreds.take(10)"
   ]
  },
  {
   "cell_type": "markdown",
   "metadata": {},
   "source": [
    "### TIP : Step Size is important"
   ]
  },
  {
   "cell_type": "code",
   "execution_count": 23,
   "metadata": {
    "collapsed": false,
    "scrolled": false
   },
   "outputs": [
    {
     "name": "stdout",
     "output_type": "stream",
     "text": [
      "Step Size 1.0 (Default)\n",
      "(weights=[-2.4414455467e+173], intercept=0.0)\n",
      "[-2.4414455467e+173]\n",
      "0.0\n",
      "-9765782186791751487210715088039060352220111253693716482748893621300180659099465516818172090556066502587581239328158959270667383329208729580664342023823383430423411112418476032.000\n",
      "\n",
      "Step Size 0.01\n",
      "(weights=[1.06422568888], intercept=0.0)\n",
      "[1.06422568888]\n",
      "0.0\n",
      "42.569\n"
     ]
    }
   ],
   "source": [
    "data = [\n",
    "   LabeledPoint(0.0, [0.0]),\n",
    "   LabeledPoint(9.0, [10.0]),\n",
    "   LabeledPoint(22.0, [20.0]),\n",
    "   LabeledPoint(32.0, [30.0])\n",
    "]\n",
    "lrm = LinearRegressionWithSGD.train(sc.parallelize(data), initialWeights=array([1.0])) # should be 1.09x -0.60\n",
    "        # Default step size of 1.0 will diverge\n",
    "print \"Step Size 1.0 (Default)\"\n",
    "print lrm\n",
    "print lrm.weights\n",
    "print lrm.intercept\n",
    "print \"%3.3f\" % lrm.predict([40])\n",
    "lrm = LinearRegressionWithSGD.train(sc.parallelize(data), initialWeights=array([1.0]), step=0.01) # should be 1.09x -0.60\n",
    "        # Default step size of 1.0 will diverge\n",
    "print\n",
    "print \"Step Size 0.01\"\n",
    "print lrm\n",
    "print lrm.weights\n",
    "print lrm.intercept\n",
    "print \"%3.3f\" % lrm.predict([40])"
   ]
  },
  {
   "cell_type": "markdown",
   "metadata": {},
   "source": [
    "Step Size 1.0 (Default)\n",
    "(weights=[-2.4414455467e+173], intercept=0.0)\n",
    "[-2.4414455467e+173]\n",
    "0.0\n",
    "-9765782186791751487210715088039060352220111253693716482748893621300180659099465516818172090556066502587581239328158959270667383329208729580664342023823383430423411112418476032.000\n",
    "\n",
    "Step Size 0.01\n",
    "(weights=[1.06428571429], intercept=0.0)\n",
    "[1.06428571429]\n",
    "0.0\n",
    "42.571"
   ]
  },
  {
   "cell_type": "code",
   "execution_count": 24,
   "metadata": {
    "collapsed": false,
    "scrolled": false
   },
   "outputs": [
    {
     "name": "stdout",
     "output_type": "stream",
     "text": [
      "(weights=[0.00113630278963], intercept=0.0)\n",
      "[0.00113630278963]\n",
      "0.0\n"
     ]
    },
    {
     "data": {
      "text/plain": [
       "4.5452111585342161"
      ]
     },
     "execution_count": 24,
     "metadata": {},
     "output_type": "execute_result"
    }
   ],
   "source": [
    "data = [\n",
    "   LabeledPoint(18.9, [3910.0]),\n",
    "   LabeledPoint(17.0, [3860.0]),\n",
    "   LabeledPoint(20.0, [4200.0]),\n",
    "   LabeledPoint(16.6, [3660.0])\n",
    "]\n",
    "lrm = LinearRegressionWithSGD.train(sc.parallelize(data), step=0.00000001) # should be ~ 0.006582x -7.595170\n",
    "print lrm\n",
    "print lrm.weights\n",
    "print lrm.intercept\n",
    "lrm.predict([4000])"
   ]
  },
  {
   "cell_type": "markdown",
   "metadata": {},
   "source": [
    "(weights=[0.00439009869891], intercept=0.0)\n",
    "[0.00439009869891]\n",
    "0.0\n",
    "Out[57]:\n",
    "17.560394795638977"
   ]
  },
  {
   "cell_type": "markdown",
   "metadata": {},
   "source": [
    "### Homework "
   ]
  },
  {
   "cell_type": "markdown",
   "metadata": {},
   "source": [
    "1.  Convert the car data to labelled points\n",
    "2.  Partition to Train & Test\n",
    "3.  Train the three Linear Models\n",
    "4.  Calculate the MSE for the three models"
   ]
  },
  {
   "cell_type": "code",
   "execution_count": 25,
   "metadata": {
    "collapsed": false,
    "scrolled": false
   },
   "outputs": [],
   "source": [
    "from pyspark.mllib.regression import LabeledPoint\n",
    "def parse_car_data(x):\n",
    "    # return labelled point\n",
    "    return LabeledPoint(x[0][0],[ x[0][1],x[0][2],x[0][3],x[0][4],x[0][5],\n",
    "                                 x[0][6],x[0][7],x[0][8],x[0][9],x[0][10],x[0][11] ]) "
   ]
  },
  {
   "cell_type": "code",
   "execution_count": 26,
   "metadata": {
    "collapsed": false,
    "scrolled": false
   },
   "outputs": [
    {
     "name": "stdout",
     "output_type": "stream",
     "text": [
      "30\n",
      "18.9\n",
      "[350.0,165.0,260.0,8.0,2.55999994278,4.0,3.0,200.300003052,69.9000015259,3910.0,1.0]\n"
     ]
    }
   ],
   "source": [
    "car_rdd_lp = cars_rdd.map(lambda x: parse_car_data(x))\n",
    "print car_rdd_lp.count()\n",
    "print car_rdd_lp.first().label\n",
    "print car_rdd_lp.first().features"
   ]
  },
  {
   "cell_type": "markdown",
   "metadata": {},
   "source": [
    "30\n",
    "18.9\n",
    "[350.0,165.0,260.0,8.0,2.55999994278,4.0,3.0,200.300003052,69.9000015259,3910.0,1.0]"
   ]
  },
  {
   "cell_type": "code",
   "execution_count": 27,
   "metadata": {
    "collapsed": false,
    "scrolled": false
   },
   "outputs": [
    {
     "data": {
      "text/plain": [
       "21"
      ]
     },
     "execution_count": 27,
     "metadata": {},
     "output_type": "execute_result"
    }
   ],
   "source": [
    "car_rdd_train = car_rdd_lp.filter(lambda x: x.features[9] <= 4000)\n",
    "car_rdd_train.count()"
   ]
  },
  {
   "cell_type": "code",
   "execution_count": 28,
   "metadata": {
    "collapsed": false,
    "scrolled": false
   },
   "outputs": [
    {
     "data": {
      "text/plain": [
       "9"
      ]
     },
     "execution_count": 28,
     "metadata": {},
     "output_type": "execute_result"
    }
   ],
   "source": [
    "car_rdd_test = car_rdd_lp.filter(lambda x: x.features[9] > 4000)\n",
    "car_rdd_test.count()"
   ]
  },
  {
   "cell_type": "code",
   "execution_count": 29,
   "metadata": {
    "collapsed": false
   },
   "outputs": [
    {
     "data": {
      "text/plain": [
       "[LabeledPoint(18.9, [350.0,165.0,260.0,8.0,2.55999994278,4.0,3.0,200.300003052,69.9000015259,3910.0,1.0]),\n",
       " LabeledPoint(17.0, [350.0,170.0,275.0,8.5,2.55999994278,4.0,3.0,199.600006104,72.9000015259,3860.0,1.0]),\n",
       " LabeledPoint(20.0, [250.0,105.0,185.0,8.25,2.73000001907,1.0,3.0,196.699996948,72.1999969482,3510.0,1.0]),\n",
       " LabeledPoint(18.25, [351.0,143.0,255.0,8.0,3.0,2.0,3.0,199.899993896,74.0,3890.0,1.0]),\n",
       " LabeledPoint(20.07, [225.0,95.0,170.0,8.39999961853,2.75999999046,1.0,3.0,194.100006104,71.8000030518,3365.0,0.0])]"
      ]
     },
     "execution_count": 29,
     "metadata": {},
     "output_type": "execute_result"
    }
   ],
   "source": [
    "car_rdd_train.take(5)"
   ]
  },
  {
   "cell_type": "code",
   "execution_count": 30,
   "metadata": {
    "collapsed": false
   },
   "outputs": [
    {
     "data": {
      "text/plain": [
       "[LabeledPoint(11.2, [440.0,215.0,330.0,8.19999980927,2.88000011444,4.0,3.0,184.5,69.0,4215.0,1.0]),\n",
       " LabeledPoint(14.39, [500.0,190.0,360.0,8.5,2.73000001907,4.0,3.0,224.100006104,79.8000030518,5290.0,1.0]),\n",
       " LabeledPoint(14.89, [440.0,215.0,330.0,8.19999980927,2.71000003815,4.0,3.0,231.0,79.6999969482,5185.0,1.0]),\n",
       " LabeledPoint(21.47, [360.0,180.0,290.0,8.39999961853,2.45000004768,2.0,3.0,214.199996948,76.3000030518,4250.0,1.0]),\n",
       " LabeledPoint(13.27, [460.0,223.0,366.0,8.0,3.0,4.0,3.0,228.0,79.8000030518,5430.0,1.0])]"
      ]
     },
     "execution_count": 30,
     "metadata": {},
     "output_type": "execute_result"
    }
   ],
   "source": [
    "car_rdd_test.take(5)"
   ]
  },
  {
   "cell_type": "code",
   "execution_count": 31,
   "metadata": {
    "collapsed": false,
    "scrolled": false
   },
   "outputs": [
    {
     "name": "stdout",
     "output_type": "stream",
     "text": [
      "(weights=[8.11072950552e-06,4.14633541026e-06,6.27810335684e-06,3.15562441646e-07,1.22320305491e-07,8.45124800836e-08,1.3615654074e-07,6.75151091991e-06,2.56129455117e-06,0.000113306981996,1.98901376993e-08], intercept=0.0)\n",
      "[8.11072950552e-06,4.14633541026e-06,6.27810335684e-06,3.15562441646e-07,1.22320305491e-07,8.45124800836e-08,1.3615654074e-07,6.75151091991e-06,2.56129455117e-06,0.000113306981996,1.98901376993e-08]\n",
      "0.0\n"
     ]
    }
   ],
   "source": [
    "lrm = LinearRegressionWithSGD.train(car_rdd_train, step=0.000000001)\n",
    "print lrm\n",
    "print lrm.weights\n",
    "print lrm.intercept"
   ]
  },
  {
   "cell_type": "code",
   "execution_count": 32,
   "metadata": {
    "collapsed": false,
    "scrolled": false
   },
   "outputs": [
    {
     "name": "stdout",
     "output_type": "stream",
     "text": [
      "Mean Squared Error = 221.828342627\n"
     ]
    }
   ],
   "source": [
    "valuesAndPreds = car_rdd_test.map(lambda p: (p.label, lrm.predict(p.features)))\n",
    "MSE = valuesAndPreds.map(lambda (v, p): (v - p)**2).reduce(lambda x, y: x + y) / valuesAndPreds.count()\n",
    "print(\"Mean Squared Error = \" + str(MSE))"
   ]
  },
  {
   "cell_type": "markdown",
   "metadata": {},
   "source": [
    "1.6.0 (12/17/15) : Mean Squared Error = 221.828342627"
   ]
  },
  {
   "cell_type": "code",
   "execution_count": 33,
   "metadata": {
    "collapsed": false,
    "scrolled": false
   },
   "outputs": [
    {
     "data": {
      "text/plain": [
       "[(11.2, 0.48554697571066902),\n",
       " (14.39, 0.60821840802580751),\n",
       " (14.89, 0.59579607855427175),\n",
       " (21.47, 0.48868667464795085),\n",
       " (13.27, 0.623957660110387),\n",
       " (19.73, 0.50156476487723733),\n",
       " (13.9, 0.52105933272680516),\n",
       " (13.27, 0.54089210674711874),\n",
       " (13.77, 0.4847844581987511)]"
      ]
     },
     "execution_count": 33,
     "metadata": {},
     "output_type": "execute_result"
    }
   ],
   "source": [
    "valuesAndPreds.take(20)"
   ]
  },
  {
   "cell_type": "code",
   "execution_count": 34,
   "metadata": {
    "collapsed": false,
    "scrolled": false
   },
   "outputs": [
    {
     "name": "stdout",
     "output_type": "stream",
     "text": [
      "[8.11071244174e-06,4.14631834266e-06,6.27808629129e-06,3.15545370813e-07,1.22303234508e-07,8.44954090843e-08,1.36139469766e-07,6.75149385406e-06,2.56127748206e-06,0.000113306965018,1.98730666514e-08]\n",
      "0.0\n",
      "Mean Squared Error = 221.828345519\n"
     ]
    }
   ],
   "source": [
    "lrm = LassoWithSGD.train(car_rdd_train, step=0.000000001)\n",
    "print lrm.weights\n",
    "print lrm.intercept\n",
    "valuesAndPreds = car_rdd_test.map(lambda p: (p.label, lrm.predict(p.features)))\n",
    "MSE = valuesAndPreds.map(lambda (v, p): (v - p)**2).reduce(lambda x, y: x + y) / valuesAndPreds.count()\n",
    "print(\"Mean Squared Error = \" + str(MSE))"
   ]
  },
  {
   "cell_type": "markdown",
   "metadata": {},
   "source": [
    "[7.99133570468e-05,4.11481587054e-05,6.19949476655e-05,3.16472476808e-06,1.2330557013e-06,8.41105433668e-07,1.37323711608e-06,6.74789184347e-05,2.56204587207e-05,0.00112604747864,1.93481200483e-07]\n",
    "0.0\n",
    "Mean Squared Error = 105.857623024"
   ]
  },
  {
   "cell_type": "code",
   "execution_count": 35,
   "metadata": {
    "collapsed": false,
    "scrolled": false
   },
   "outputs": [
    {
     "data": {
      "text/plain": [
       "[(11.2, 0.48554688268746388),\n",
       " (14.39, 0.60821829477954303),\n",
       " (14.89, 0.59579596808920543),\n",
       " (21.47, 0.48868658308221813),\n",
       " (13.27, 0.6239575444415133),\n",
       " (19.73, 0.50156467324591592),\n",
       " (13.9, 0.5210592376727341),\n",
       " (13.27, 0.540892008711505),\n",
       " (13.77, 0.48478436690721849)]"
      ]
     },
     "execution_count": 35,
     "metadata": {},
     "output_type": "execute_result"
    }
   ],
   "source": [
    "valuesAndPreds.take(20)"
   ]
  },
  {
   "cell_type": "code",
   "execution_count": 36,
   "metadata": {
    "collapsed": false,
    "scrolled": false
   },
   "outputs": [
    {
     "name": "stdout",
     "output_type": "stream",
     "text": [
      "[8.11072950549e-06,4.14633541025e-06,6.27810335682e-06,3.15562441645e-07,1.2232030549e-07,8.45124800833e-08,1.36156540739e-07,6.75151091989e-06,2.56129455116e-06,0.000113306981996,1.98901376992e-08]\n",
      "0.0\n",
      "Mean Squared Error = 221.828342627\n"
     ]
    }
   ],
   "source": [
    "lrm = RidgeRegressionWithSGD.train(car_rdd_train, step=0.000000001)\n",
    "print lrm.weights\n",
    "print lrm.intercept\n",
    "valuesAndPreds = car_rdd_test.map(lambda p: (p.label, lrm.predict(p.features)))\n",
    "MSE = valuesAndPreds.map(lambda (v, p): (v - p)**2).reduce(lambda x, y: x + y) / valuesAndPreds.count()\n",
    "print(\"Mean Squared Error = \" + str(MSE))"
   ]
  },
  {
   "cell_type": "markdown",
   "metadata": {},
   "source": [
    "[7.99135412894e-05,4.11483438146e-05,6.19951323091e-05,3.16491061092e-06,1.233241578e-06,8.41291314154e-07,1.37342299073e-06,6.74791031461e-05,2.56206441717e-05,0.00112604764338,1.93667092004e-07]\n",
    "0.0\n",
    "Mean Squared Error = 105.85760396"
   ]
  },
  {
   "cell_type": "markdown",
   "metadata": {},
   "source": [
    "## That is All Folks !"
   ]
  },
  {
   "cell_type": "code",
   "execution_count": null,
   "metadata": {
    "collapsed": false,
    "scrolled": false
   },
   "outputs": [],
   "source": []
  }
 ],
 "metadata": {
  "kernelspec": {
   "display_name": "Python 2",
   "language": "python",
   "name": "python2"
  },
  "language_info": {
   "codemirror_mode": {
    "name": "ipython",
    "version": 2
   },
   "file_extension": ".py",
   "mimetype": "text/x-python",
   "name": "python",
   "nbconvert_exporter": "python",
   "pygments_lexer": "ipython2",
   "version": "2.7.10"
  }
 },
 "nbformat": 4,
 "nbformat_minor": 0
}
