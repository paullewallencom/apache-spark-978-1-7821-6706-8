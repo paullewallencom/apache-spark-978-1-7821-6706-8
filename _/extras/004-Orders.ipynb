{
 "cells": [
  {
   "cell_type": "code",
   "execution_count": 1,
   "metadata": {
    "collapsed": false
   },
   "outputs": [
    {
     "name": "stdout",
     "output_type": "stream",
     "text": [
      "Last run @2015-12-17 21:29:04.917552-08:00\n"
     ]
    }
   ],
   "source": [
    "import datetime\n",
    "from pytz import timezone\n",
    "print \"Last run @%s\" % (datetime.datetime.now(timezone('US/Pacific')))"
   ]
  },
  {
   "cell_type": "code",
   "execution_count": 2,
   "metadata": {
    "collapsed": false
   },
   "outputs": [
    {
     "name": "stdout",
     "output_type": "stream",
     "text": [
      "Running Spark Version 1.6.0\n"
     ]
    }
   ],
   "source": [
    "from pyspark.context import SparkContext\n",
    "print \"Running Spark Version %s\" % (sc.version)"
   ]
  },
  {
   "cell_type": "code",
   "execution_count": 3,
   "metadata": {
    "collapsed": false
   },
   "outputs": [
    {
     "name": "stdout",
     "output_type": "stream",
     "text": [
      "spark.app.name=PySparkShell\n",
      "spark.files=file:/Users/ksankar/.ivy2/jars/com.databricks_spark-csv_2.10-1.3.0.jar,file:/Users/ksankar/.ivy2/jars/org.apache.commons_commons-csv-1.1.jar,file:/Users/ksankar/.ivy2/jars/com.univocity_univocity-parsers-1.5.1.jar\n",
      "spark.jars=file:/Users/ksankar/.ivy2/jars/com.databricks_spark-csv_2.10-1.3.0.jar,file:/Users/ksankar/.ivy2/jars/org.apache.commons_commons-csv-1.1.jar,file:/Users/ksankar/.ivy2/jars/com.univocity_univocity-parsers-1.5.1.jar\n",
      "spark.master=local[*]\n",
      "spark.submit.deployMode=client\n",
      "spark.submit.pyFiles=/Users/ksankar/.ivy2/jars/com.databricks_spark-csv_2.10-1.3.0.jar,/Users/ksankar/.ivy2/jars/org.apache.commons_commons-csv-1.1.jar,/Users/ksankar/.ivy2/jars/com.univocity_univocity-parsers-1.5.1.jar\n"
     ]
    }
   ],
   "source": [
    "from pyspark.conf import SparkConf\n",
    "conf = SparkConf()\n",
    "print conf.toDebugString()"
   ]
  },
  {
   "cell_type": "code",
   "execution_count": 4,
   "metadata": {
    "collapsed": true
   },
   "outputs": [],
   "source": [
    "# Read Orders\n",
    "orders = sqlContext.read.format('com.databricks.spark.csv').options(header='true').load('NW/NW-Orders.csv')"
   ]
  },
  {
   "cell_type": "code",
   "execution_count": 5,
   "metadata": {
    "collapsed": true
   },
   "outputs": [],
   "source": [
    "order_details = sqlContext.read.format('com.databricks.spark.csv').options(header='true').load('NW/NW-Order-Details.csv')"
   ]
  },
  {
   "cell_type": "code",
   "execution_count": 6,
   "metadata": {
    "collapsed": true
   },
   "outputs": [],
   "source": [
    "products = sqlContext.read.format('com.databricks.spark.csv').options(header='true').load('NW/NW-Products.csv')"
   ]
  },
  {
   "cell_type": "code",
   "execution_count": 7,
   "metadata": {
    "collapsed": false
   },
   "outputs": [
    {
     "data": {
      "text/plain": [
       "830"
      ]
     },
     "execution_count": 7,
     "metadata": {},
     "output_type": "execute_result"
    }
   ],
   "source": [
    "orders.count()"
   ]
  },
  {
   "cell_type": "code",
   "execution_count": 8,
   "metadata": {
    "collapsed": true
   },
   "outputs": [],
   "source": [
    "# Save as parquet format for folks who couldn't make spark-csv work\n",
    "orders.repartition(1).write.mode(\"overwrite\").format(\"parquet\").save(\"orders.parquet\")\n",
    "order_details.repartition(1).write.mode(\"overwrite\").format(\"parquet\").save(\"order_details.parquet\")\n",
    "products.repartition(1).write.mode(\"overwrite\").format(\"parquet\").save(\"products.parquet\")"
   ]
  },
  {
   "cell_type": "code",
   "execution_count": 9,
   "metadata": {
    "collapsed": false
   },
   "outputs": [
    {
     "name": "stdout",
     "output_type": "stream",
     "text": [
      "+-------+----------+----------+---------+----------+\n",
      "|OrderID|CustomerID|EmpliyeeID|OrderDate|ShipCuntry|\n",
      "+-------+----------+----------+---------+----------+\n",
      "|  10248|     VINET|         5|   7/2/96|    France|\n",
      "|  10249|     TOMSP|         6|   7/3/96|   Germany|\n",
      "|  10250|     HANAR|         4|   7/6/96|    Brazil|\n",
      "|  10251|     VICTE|         3|   7/6/96|    France|\n",
      "|  10252|     SUPRD|         4|   7/7/96|   Belgium|\n",
      "+-------+----------+----------+---------+----------+\n",
      "only showing top 5 rows\n",
      "\n"
     ]
    },
    {
     "data": {
      "text/plain": [
       "830"
      ]
     },
     "execution_count": 9,
     "metadata": {},
     "output_type": "execute_result"
    }
   ],
   "source": [
    "# Read & Check\n",
    "df = sqlContext.read.load(\"orders.parquet\")\n",
    "df.show(5)\n",
    "df.count()"
   ]
  },
  {
   "cell_type": "code",
   "execution_count": 10,
   "metadata": {
    "collapsed": false
   },
   "outputs": [
    {
     "name": "stdout",
     "output_type": "stream",
     "text": [
      "+---------+--------------------+---------+------------+------------+------------+------------+\n",
      "|ProductID|         ProductName|UnitPrice|UnitsInStock|UnitsOnOrder|ReorderLevel|Discontinued|\n",
      "+---------+--------------------+---------+------------+------------+------------+------------+\n",
      "|        1|                Chai|       18|          39|           0|          10|           0|\n",
      "|        2|               Chang|       19|          17|          40|          25|           0|\n",
      "|        3|       Aniseed Syrup|       10|          13|          70|          25|           0|\n",
      "|        4|Chef Antons Cajun...|       22|          53|           0|           0|           0|\n",
      "|        5|Chef Antons Gumbo...|    21.35|           0|           0|           0|           1|\n",
      "+---------+--------------------+---------+------------+------------+------------+------------+\n",
      "only showing top 5 rows\n",
      "\n"
     ]
    },
    {
     "data": {
      "text/plain": [
       "77"
      ]
     },
     "execution_count": 10,
     "metadata": {},
     "output_type": "execute_result"
    }
   ],
   "source": [
    "# Read & Check\n",
    "df = sqlContext.read.load(\"products.parquet\")\n",
    "df.show(5)\n",
    "df.count()"
   ]
  },
  {
   "cell_type": "code",
   "execution_count": 11,
   "metadata": {
    "collapsed": false
   },
   "outputs": [
    {
     "name": "stdout",
     "output_type": "stream",
     "text": [
      "+-------+---------+---------+---+--------+\n",
      "|OrderID|ProductId|UnitPrice|Qty|Discount|\n",
      "+-------+---------+---------+---+--------+\n",
      "|  10248|       11|       14| 12|       0|\n",
      "|  10248|       42|      9.8| 10|       0|\n",
      "|  10248|       72|     34.8|  5|       0|\n",
      "|  10249|       14|     18.6|  9|       0|\n",
      "|  10249|       51|     42.4| 40|       0|\n",
      "+-------+---------+---------+---+--------+\n",
      "only showing top 5 rows\n",
      "\n"
     ]
    },
    {
     "data": {
      "text/plain": [
       "2155"
      ]
     },
     "execution_count": 11,
     "metadata": {},
     "output_type": "execute_result"
    }
   ],
   "source": [
    "# Read & Check\n",
    "df = sqlContext.read.load(\"order_details.parquet\")\n",
    "df.show(5)\n",
    "df.count()"
   ]
  },
  {
   "cell_type": "code",
   "execution_count": 12,
   "metadata": {
    "collapsed": false
   },
   "outputs": [
    {
     "data": {
      "text/plain": [
       "2155"
      ]
     },
     "execution_count": 12,
     "metadata": {},
     "output_type": "execute_result"
    }
   ],
   "source": [
    "order_details.count()"
   ]
  },
  {
   "cell_type": "code",
   "execution_count": 13,
   "metadata": {
    "collapsed": false
   },
   "outputs": [
    {
     "name": "stdout",
     "output_type": "stream",
     "text": [
      "+-------+----------+----------+---------+-----------+\n",
      "|OrderID|CustomerID|EmpliyeeID|OrderDate| ShipCuntry|\n",
      "+-------+----------+----------+---------+-----------+\n",
      "|  10248|     VINET|         5|   7/2/96|     France|\n",
      "|  10249|     TOMSP|         6|   7/3/96|    Germany|\n",
      "|  10250|     HANAR|         4|   7/6/96|     Brazil|\n",
      "|  10251|     VICTE|         3|   7/6/96|     France|\n",
      "|  10252|     SUPRD|         4|   7/7/96|    Belgium|\n",
      "|  10253|     HANAR|         3|   7/8/96|     Brazil|\n",
      "|  10254|     CHOPS|         5|   7/9/96|Switzerland|\n",
      "|  10255|     RICSU|         9|  7/10/96|Switzerland|\n",
      "|  10256|     WELLI|         3|  7/13/96|     Brazil|\n",
      "|  10257|     HILAA|         4|  7/14/96|  Venezuela|\n",
      "+-------+----------+----------+---------+-----------+\n",
      "only showing top 10 rows\n",
      "\n"
     ]
    }
   ],
   "source": [
    "orders.show(10)"
   ]
  },
  {
   "cell_type": "code",
   "execution_count": 14,
   "metadata": {
    "collapsed": false
   },
   "outputs": [
    {
     "name": "stdout",
     "output_type": "stream",
     "text": [
      "+-------+---------+---------+---+--------+\n",
      "|OrderID|ProductId|UnitPrice|Qty|Discount|\n",
      "+-------+---------+---------+---+--------+\n",
      "|  10248|       11|       14| 12|       0|\n",
      "|  10248|       42|      9.8| 10|       0|\n",
      "|  10248|       72|     34.8|  5|       0|\n",
      "|  10249|       14|     18.6|  9|       0|\n",
      "|  10249|       51|     42.4| 40|       0|\n",
      "|  10250|       41|      7.7| 10|       0|\n",
      "|  10250|       51|     42.4| 35|    0.15|\n",
      "|  10250|       65|     16.8| 15|    0.15|\n",
      "|  10251|       22|     16.8|  6|    0.05|\n",
      "|  10251|       57|     15.6| 15|    0.05|\n",
      "+-------+---------+---------+---+--------+\n",
      "only showing top 10 rows\n",
      "\n"
     ]
    }
   ],
   "source": [
    "order_details.show(10)"
   ]
  },
  {
   "cell_type": "code",
   "execution_count": 15,
   "metadata": {
    "collapsed": false
   },
   "outputs": [
    {
     "data": {
      "text/plain": [
       "77"
      ]
     },
     "execution_count": 15,
     "metadata": {},
     "output_type": "execute_result"
    }
   ],
   "source": [
    "products.count()"
   ]
  },
  {
   "cell_type": "code",
   "execution_count": 16,
   "metadata": {
    "collapsed": false
   },
   "outputs": [
    {
     "name": "stdout",
     "output_type": "stream",
     "text": [
      "+---------+-----------+---------+------------+------------+------------+------------+\n",
      "|ProductID|ProductName|UnitPrice|UnitsInStock|UnitsOnOrder|ReorderLevel|Discontinued|\n",
      "+---------+-----------+---------+------------+------------+------------+------------+\n",
      "|        1|       Chai|       18|          39|           0|          10|           0|\n",
      "+---------+-----------+---------+------------+------------+------------+------------+\n",
      "only showing top 1 row\n",
      "\n"
     ]
    }
   ],
   "source": [
    "products.show(1)"
   ]
  },
  {
   "cell_type": "code",
   "execution_count": 17,
   "metadata": {
    "collapsed": true
   },
   "outputs": [],
   "source": [
    "# Questions\n",
    "# 1. How many orders were placed by each customer? \n",
    "# 2. How many orders were placed by each country ?\n",
    "# 3. How many orders by month/year ?\n",
    "# 4. Total Sales for each customer by year\n",
    "# 5. Average order by customer by year\n",
    "# These are questions based on customer and sales reports\n",
    "# Similar questions can be asked about products as well"
   ]
  },
  {
   "cell_type": "code",
   "execution_count": 18,
   "metadata": {
    "collapsed": false
   },
   "outputs": [
    {
     "data": {
      "text/plain": [
       "[('OrderID', 'string'),\n",
       " ('CustomerID', 'string'),\n",
       " ('EmpliyeeID', 'string'),\n",
       " ('OrderDate', 'string'),\n",
       " ('ShipCuntry', 'string')]"
      ]
     },
     "execution_count": 18,
     "metadata": {},
     "output_type": "execute_result"
    }
   ],
   "source": [
    "orders.dtypes"
   ]
  },
  {
   "cell_type": "code",
   "execution_count": 19,
   "metadata": {
    "collapsed": false
   },
   "outputs": [
    {
     "name": "stdout",
     "output_type": "stream",
     "text": [
      "+----------+-----+\n",
      "|CustomerID|count|\n",
      "+----------+-----+\n",
      "|     SAVEA|   31|\n",
      "|     ERNSH|   30|\n",
      "|     QUICK|   28|\n",
      "|     HUNGO|   19|\n",
      "|     FOLKO|   19|\n",
      "|     HILAA|   18|\n",
      "|     BERGS|   18|\n",
      "|     RATTC|   18|\n",
      "|     BONAP|   17|\n",
      "|     LEHMS|   15|\n",
      "+----------+-----+\n",
      "only showing top 10 rows\n",
      "\n"
     ]
    }
   ],
   "source": [
    "# 1. How many orders were placed by each customer? \n",
    "orders.groupBy(\"CustomerID\").count().orderBy(\"count\",ascending=False).show(10)"
   ]
  },
  {
   "cell_type": "code",
   "execution_count": 20,
   "metadata": {
    "collapsed": false
   },
   "outputs": [
    {
     "name": "stdout",
     "output_type": "stream",
     "text": [
      "+----------+-----+\n",
      "|ShipCuntry|count|\n",
      "+----------+-----+\n",
      "|   Germany|  122|\n",
      "|       USA|  122|\n",
      "|    Brazil|   82|\n",
      "|    France|   77|\n",
      "|        UK|   56|\n",
      "| Venezuela|   46|\n",
      "|   Austria|   40|\n",
      "|    Sweden|   37|\n",
      "|    Canada|   30|\n",
      "|    Mexico|   28|\n",
      "+----------+-----+\n",
      "only showing top 10 rows\n",
      "\n"
     ]
    }
   ],
   "source": [
    "# 2. How many orders were placed by each country ?\n",
    "orders.groupBy(\"ShipCuntry\").count().orderBy(\"count\",ascending=False).show(10)"
   ]
  },
  {
   "cell_type": "code",
   "execution_count": 21,
   "metadata": {
    "collapsed": true
   },
   "outputs": [],
   "source": [
    "# For the next set of questions, let us transform the data\n",
    "# 1. Add OrderTotal column to the Orders DataFrame\n",
    "# 1.1. Add Line total to order details\n",
    "# 1.2. Aggregate total by order id\n",
    "# 1.3. Join order details & orders to add the order total\n",
    "# 1.4. Check if there are any null columns\n",
    "# 2. Add a date column\n",
    "# 3. Add month and year"
   ]
  },
  {
   "cell_type": "code",
   "execution_count": 22,
   "metadata": {
    "collapsed": false
   },
   "outputs": [],
   "source": [
    "# 1.1. Add Line total to order details\n",
    "order_details_1 = order_details.select(order_details['OrderID'],\n",
    "                                       (order_details['UnitPrice'].cast('float') *\n",
    "                                       order_details['Qty'].cast('float') *\n",
    "                                       (1.0 -order_details['Discount'].cast('float'))).alias('OrderPrice'))"
   ]
  },
  {
   "cell_type": "code",
   "execution_count": 23,
   "metadata": {
    "collapsed": false
   },
   "outputs": [
    {
     "name": "stdout",
     "output_type": "stream",
     "text": [
      "+-------+------------------+\n",
      "|OrderID|        OrderPrice|\n",
      "+-------+------------------+\n",
      "|  10248|             168.0|\n",
      "|  10248|              98.0|\n",
      "|  10248|             174.0|\n",
      "|  10249|167.40000915527344|\n",
      "|  10249|            1696.0|\n",
      "|  10250|              77.0|\n",
      "|  10250|1261.3999911546707|\n",
      "|  10250|214.19998552799234|\n",
      "|  10251| 95.75999557614327|\n",
      "|  10251| 222.2999998256564|\n",
      "+-------+------------------+\n",
      "only showing top 10 rows\n",
      "\n"
     ]
    }
   ],
   "source": [
    "order_details_1.show(10)"
   ]
  },
  {
   "cell_type": "code",
   "execution_count": 24,
   "metadata": {
    "collapsed": true
   },
   "outputs": [],
   "source": [
    "# 1.2. Aggregate total by order id\n",
    "order_tot = order_details_1.groupBy('OrderID').sum('OrderPrice').alias('OrderTotal')"
   ]
  },
  {
   "cell_type": "code",
   "execution_count": 25,
   "metadata": {
    "collapsed": false
   },
   "outputs": [
    {
     "name": "stdout",
     "output_type": "stream",
     "text": [
      "+-------+------------------+\n",
      "|OrderID|   sum(OrderPrice)|\n",
      "+-------+------------------+\n",
      "|  10248|             440.0|\n",
      "|  10249|1863.4000091552734|\n",
      "|  10250| 1552.599976682663|\n",
      "|  10251| 654.0599954017997|\n",
      "|  10252|3597.8999980315566|\n",
      "+-------+------------------+\n",
      "only showing top 5 rows\n",
      "\n"
     ]
    }
   ],
   "source": [
    "order_tot.orderBy('OrderID').show(5)"
   ]
  },
  {
   "cell_type": "code",
   "execution_count": 26,
   "metadata": {
    "collapsed": false
   },
   "outputs": [],
   "source": [
    "# 1.3. Join order details & orders to add the order total\n",
    "orders_1 = orders.join(order_tot, orders['OrderID'] == order_tot['OrderID'], 'inner')\\\n",
    ".select(orders['OrderID'],\n",
    "        orders['CustomerID'],\n",
    "        orders['OrderDate'],\n",
    "        orders['ShipCuntry'].alias('ShipCountry'),\n",
    "        order_tot['sum(OrderPrice)'].alias('Total'))"
   ]
  },
  {
   "cell_type": "code",
   "execution_count": 27,
   "metadata": {
    "collapsed": false
   },
   "outputs": [
    {
     "name": "stdout",
     "output_type": "stream",
     "text": [
      "+-------+----------+---------+-----------+------------------+\n",
      "|OrderID|CustomerID|OrderDate|ShipCountry|             Total|\n",
      "+-------+----------+---------+-----------+------------------+\n",
      "|  10643|     ALFKI|  8/23/97|    Germany|             814.5|\n",
      "|  10952|     ALFKI|  3/14/98|    Germany|471.19999665021896|\n",
      "|  10692|     ALFKI|  10/1/97|    Germany|             878.0|\n",
      "|  10702|     ALFKI| 10/11/97|    Germany|             330.0|\n",
      "|  10835|     ALFKI|  1/13/98|    Germany|  845.799999922514|\n",
      "|  11011|     ALFKI|   4/7/98|    Germany| 933.4999996051192|\n",
      "|  10759|     ANATR| 11/26/97|     Mexico|             320.0|\n",
      "|  10308|     ANATR|  9/16/96|     Mexico| 88.79999923706055|\n",
      "|  10625|     ANATR|   8/6/97|     Mexico|            479.75|\n",
      "|  10926|     ANATR|   3/2/98|     Mexico| 514.4000015258789|\n",
      "|  10856|     ANTON|  1/26/98|     Mexico|             660.0|\n",
      "|  10682|     ANTON|  9/23/97|     Mexico|             375.5|\n",
      "|  10365|     ANTON| 11/25/96|     Mexico| 403.1999816894531|\n",
      "|  10677|     ANTON|  9/20/97|     Mexico| 813.3649631685021|\n",
      "|  10507|     ANTON|  4/13/97|     Mexico| 749.0624947473407|\n",
      "|  10535|     ANTON|  5/11/97|     Mexico|1940.8499967865646|\n",
      "|  10573|     ANTON|  6/17/97|     Mexico|            2082.0|\n",
      "|  10383|     AROUT| 12/14/96|         UK|             899.0|\n",
      "|  10355|     AROUT| 11/13/96|         UK|             480.0|\n",
      "|  10768|     AROUT|  12/6/97|         UK|            1477.0|\n",
      "+-------+----------+---------+-----------+------------------+\n",
      "only showing top 20 rows\n",
      "\n"
     ]
    }
   ],
   "source": [
    "orders_1.orderBy('CustomerID').show()"
   ]
  },
  {
   "cell_type": "code",
   "execution_count": 28,
   "metadata": {
    "collapsed": false
   },
   "outputs": [
    {
     "name": "stdout",
     "output_type": "stream",
     "text": [
      "+-------+----------+---------+-----------+-----+\n",
      "|OrderID|CustomerID|OrderDate|ShipCountry|Total|\n",
      "+-------+----------+---------+-----------+-----+\n",
      "+-------+----------+---------+-----------+-----+\n",
      "\n"
     ]
    }
   ],
   "source": [
    "# 1.4. Check if there are any null columns\n",
    "orders_1.filter(orders_1['Total'].isNull()).show(40)"
   ]
  },
  {
   "cell_type": "code",
   "execution_count": 29,
   "metadata": {
    "collapsed": false
   },
   "outputs": [],
   "source": [
    "import pyspark.sql.functions as F\n",
    "from pyspark.sql.types import DateType,IntegerType\n",
    "from datetime import datetime\n",
    "convertToDate = F.udf(lambda s: datetime.strptime(s, '%m/%d/%y'), DateType())\n",
    "#getMonth = F.udf(lambda d:d.month, IntegerType())\n",
    "#getYear = F.udf(lambda d:d.year, IntegerType())\n",
    "getM = F.udf(lambda d:d.month, IntegerType()) # To test UDF in 1.5.1. didn't work in 1.5.0\n",
    "getY = F.udf(lambda d:d.year, IntegerType())"
   ]
  },
  {
   "cell_type": "code",
   "execution_count": 30,
   "metadata": {
    "collapsed": true
   },
   "outputs": [],
   "source": [
    "# 2. Add a date column\n",
    "orders_2 = orders_1.withColumn('Date',convertToDate(orders_1['OrderDate']))"
   ]
  },
  {
   "cell_type": "code",
   "execution_count": 31,
   "metadata": {
    "collapsed": false
   },
   "outputs": [
    {
     "name": "stdout",
     "output_type": "stream",
     "text": [
      "+-------+----------+---------+-----------+-----------------+----------+\n",
      "|OrderID|CustomerID|OrderDate|ShipCountry|            Total|      Date|\n",
      "+-------+----------+---------+-----------+-----------------+----------+\n",
      "|  10315|     ISLAT|  9/24/96|         UK|516.8000030517578|1996-09-24|\n",
      "|  10766|     OTTIK|  12/3/97|    Germany|           2310.0|1997-12-03|\n",
      "+-------+----------+---------+-----------+-----------------+----------+\n",
      "only showing top 2 rows\n",
      "\n"
     ]
    }
   ],
   "source": [
    "orders_2.show(2)"
   ]
  },
  {
   "cell_type": "code",
   "execution_count": 32,
   "metadata": {
    "collapsed": false
   },
   "outputs": [],
   "source": [
    "# 3. Add month and year\n",
    "#orders_3 = orders_2.withColumn('Month',getMonth(orders_2['Date'])).withColumn('Year',getYear(orders_2['Date']))\n",
    "orders_3 = orders_2.withColumn('Month',F.month(orders_2['Date'])).withColumn('Year',F.year(orders_2['Date']))\n",
    "orders_3 = orders_2.withColumn('Month',getM(orders_2['Date'])).withColumn('Year',getY(orders_2['Date']))"
   ]
  },
  {
   "cell_type": "code",
   "execution_count": 33,
   "metadata": {
    "collapsed": false
   },
   "outputs": [
    {
     "name": "stdout",
     "output_type": "stream",
     "text": [
      "+-------+----------+---------+-----------+-----------------+----------+-----+----+\n",
      "|OrderID|CustomerID|OrderDate|ShipCountry|            Total|      Date|Month|Year|\n",
      "+-------+----------+---------+-----------+-----------------+----------+-----+----+\n",
      "|  10315|     ISLAT|  9/24/96|         UK|516.8000030517578|1996-09-24|    9|1996|\n",
      "|  10766|     OTTIK|  12/3/97|    Germany|           2310.0|1997-12-03|   12|1997|\n",
      "|  10810|     LAUGB| 12/30/97|     Canada|            187.0|1997-12-30|   12|1997|\n",
      "|  10928|     GALED|   3/3/98|      Spain|            137.5|1998-03-03|    3|1998|\n",
      "|  11044|     WOLZA|  4/21/98|     Poland|591.5999755859375|1998-04-21|    4|1998|\n",
      "+-------+----------+---------+-----------+-----------------+----------+-----+----+\n",
      "only showing top 5 rows\n",
      "\n"
     ]
    }
   ],
   "source": [
    "orders_3.show(5)"
   ]
  },
  {
   "cell_type": "code",
   "execution_count": 34,
   "metadata": {
    "collapsed": false
   },
   "outputs": [
    {
     "name": "stdout",
     "output_type": "stream",
     "text": [
      "+----+-----+------------------+\n",
      "|Year|Month|        sum(Total)|\n",
      "+----+-----+------------------+\n",
      "|1996|    7| 30741.89482613087|\n",
      "|1996|    8|22726.874927262965|\n",
      "|1996|    9|27691.400036934017|\n",
      "|1996|   10|38380.124970179044|\n",
      "|1996|   11| 45694.44485737152|\n",
      "|1996|   12| 52494.33016600876|\n",
      "|1997|    1| 51612.97007056057|\n",
      "|1997|    2| 38483.63478581548|\n",
      "|1997|    3|40918.819994803074|\n",
      "|1997|    4| 57116.71232687771|\n",
      "|1997|    5|  50270.3297302828|\n",
      "|1997|    6| 34392.08242916524|\n",
      "|1997|    7| 52744.67748051029|\n",
      "|1997|    8|  46991.7848285738|\n",
      "|1997|    9| 57723.22742255703|\n",
      "|1997|   10|62253.625932126764|\n",
      "|1997|   11| 51294.80883336867|\n",
      "|1997|   12| 67920.22840889254|\n",
      "|1998|    1| 107049.9603509332|\n",
      "|1998|    2| 85240.82739185859|\n",
      "+----+-----+------------------+\n",
      "only showing top 20 rows\n",
      "\n",
      "2015-12-17 21:31:20.033784 Elapsed : 17.007098\n"
     ]
    }
   ],
   "source": [
    "# 3. How many orders by month/year ?\n",
    "import time\n",
    "start_time = time.time()\n",
    "orders_3.groupBy(\"Year\",\"Month\").sum('Total').show()\n",
    "print \"%s Elapsed : %f\" % (datetime.today(), time.time() - start_time)\n",
    "#[7/3/15 8:20 PM 1.4.1] Elapsed : 22.788190 (with UDF)\n",
    "#[1.5.0] 2015-09-05 10:29:57.377955 Elapsed : 10.542052 (with F.*)\n",
    "#[1.5.1] 2015-09-24 17:53:13.605858 Elapsed : 11.024428 (with F.*)"
   ]
  },
  {
   "cell_type": "code",
   "execution_count": 35,
   "metadata": {
    "collapsed": false
   },
   "outputs": [
    {
     "name": "stdout",
     "output_type": "stream",
     "text": [
      "+----------+----+------------------+\n",
      "|CustomerID|Year|        sum(Total)|\n",
      "+----------+----+------------------+\n",
      "|     MAISD|1997|            5297.0|\n",
      "|     MAISD|1998| 4439.074999286532|\n",
      "|     PERIC|1996| 680.7999877929688|\n",
      "|     PERIC|1997|2065.3999938964844|\n",
      "|     PERIC|1998|            1496.0|\n",
      "|     RICSU|1996|            2490.5|\n",
      "|     RICSU|1997|11864.423862058282|\n",
      "|     WANDK|1996|3839.7999651432037|\n",
      "|     WANDK|1997| 4262.824986690655|\n",
      "|     RICSU|1998| 4988.854987118468|\n",
      "|     WANDK|1998|1485.7999988347292|\n",
      "|     PRINI|1996|1001.8400213575362|\n",
      "|     PRINI|1997|1409.2000122070312|\n",
      "|     RATTC|1996|14344.380080768167|\n",
      "|     PRINI|1998|2633.9000244140625|\n",
      "|     RATTC|1997|15515.150034349412|\n",
      "|     RATTC|1998|21238.270496094367|\n",
      "|     BERGS|1996| 4324.400131225586|\n",
      "|     BERGS|1997|13849.014957972095|\n",
      "|     BERGS|1998|  6754.16244180873|\n",
      "+----------+----+------------------+\n",
      "only showing top 20 rows\n",
      "\n",
      "2015-12-17 21:31:36.577753 Elapsed : 16.537816\n"
     ]
    }
   ],
   "source": [
    "# 4. Total Sales for each customer by year\n",
    "import time\n",
    "start_time = time.time()\n",
    "orders_3.groupBy(\"CustomerID\",\"Year\").sum('Total').show()\n",
    "print \"%s Elapsed : %f\" % (datetime.today(), time.time() - start_time)\n",
    "#[1.4.1] 2015-07-03 20:29:37.499064 Elapsed : 18.372916 (with UDF)\n",
    "#[1.5.0] 2015-09-05 10:26:14.689536 Elapsed : 11.468665 (with F.*)\n",
    "#[1.5.1] 2015-09-24 17:53:23.670811 Elapsed : 10.057430 (with F.*)"
   ]
  },
  {
   "cell_type": "code",
   "execution_count": 36,
   "metadata": {
    "collapsed": false
   },
   "outputs": [
    {
     "name": "stdout",
     "output_type": "stream",
     "text": [
      "+----------+----+------------------+\n",
      "|CustomerID|Year|        avg(Total)|\n",
      "+----------+----+------------------+\n",
      "|     MAISD|1997|1765.6666666666667|\n",
      "|     MAISD|1998| 1109.768749821633|\n",
      "|     PERIC|1996| 340.3999938964844|\n",
      "|     PERIC|1997|1032.6999969482422|\n",
      "|     PERIC|1998|             748.0|\n",
      "|     RICSU|1996|            2490.5|\n",
      "|     RICSU|1997|2372.8847724116563|\n",
      "|     WANDK|1996| 959.9499912858009|\n",
      "|     WANDK|1997| 852.5649973381311|\n",
      "|     RICSU|1998| 1247.213746779617|\n",
      "|     WANDK|1998|1485.7999988347292|\n",
      "|     PRINI|1996| 500.9200106787681|\n",
      "|     PRINI|1997| 704.6000061035156|\n",
      "|     RATTC|1996|2049.1971543954523|\n",
      "|     PRINI|1998|2633.9000244140625|\n",
      "|     RATTC|1997|3103.0300068698825|\n",
      "|     RATTC|1998| 3539.711749349061|\n",
      "|     BERGS|1996|1441.4667104085286|\n",
      "|     BERGS|1997|1384.9014957972095|\n",
      "|     BERGS|1998| 1350.832488361746|\n",
      "+----------+----+------------------+\n",
      "only showing top 20 rows\n",
      "\n",
      "2015-12-17 21:32:34.356596 Elapsed : 13.67\n"
     ]
    }
   ],
   "source": [
    "# 5. Average order by customer by year\n",
    "import time\n",
    "start_time = time.time()\n",
    "orders_3.groupBy(\"CustomerID\",\"Year\").avg('Total').show()\n",
    "print \"%s Elapsed : %.2f\" % (datetime.today(), time.time() - start_time)\n",
    "#[1.4.1] 2015-07-03 20:32:14.734800 Elapsed : 18.88 (with UDF)\n",
    "#[1.5.0] 2015-09-05 10:26:28.227042 Elapsed : 13.53 (with F.*)\n",
    "#[1.5.1] 2015-09-24 17:55:25.963050 Elapsed : 10.02 (with F.*)"
   ]
  },
  {
   "cell_type": "code",
   "execution_count": 37,
   "metadata": {
    "collapsed": false
   },
   "outputs": [
    {
     "name": "stdout",
     "output_type": "stream",
     "text": [
      "+----------+------------------+\n",
      "|CustomerID|        avg(Total)|\n",
      "+----------+------------------+\n",
      "|     QUICK|3938.4751726235745|\n",
      "|     ERNSH| 3495.832606963627|\n",
      "|     SAVEA| 3366.514505365375|\n",
      "|     RATTC|2838.7667006228858|\n",
      "|     HUNGO| 2630.521326734353|\n",
      "|     SIMOB| 2402.442494857705|\n",
      "|     HANAR|  2345.81213784039|\n",
      "|     FOLIG|2333.3800003051756|\n",
      "|     PICCO| 2312.885991293058|\n",
      "|     MEREP|2220.9377055785862|\n",
      "|     KOENE|2207.7417048407174|\n",
      "|     SUPRD| 2007.398340564072|\n",
      "|     QUEEN|1978.2690324880728|\n",
      "|     WHITC|1954.5432158601923|\n",
      "|     RICSU| 1934.377884917675|\n",
      "|     EASTC|1845.1293716430664|\n",
      "|     SEVES| 1801.702761604513|\n",
      "|     FRANK|1777.1039616996916|\n",
      "|     BLONP|1684.9163589199563|\n",
      "|     GREAL|1682.4954538964614|\n",
      "+----------+------------------+\n",
      "only showing top 20 rows\n",
      "\n",
      "2015-12-17 21:32:58.152189 Elapsed : 13.58\n"
     ]
    }
   ],
   "source": [
    "# 6. Average order by customer\n",
    "import time\n",
    "start_time = time.time()\n",
    "orders_3.groupBy(\"CustomerID\").avg('Total').orderBy('avg(Total)',ascending=False).show()\n",
    "print \"%s Elapsed : %.2f\" % (datetime.today(), time.time() - start_time)\n",
    "#[1.4.1] 2015-07-03 20:33:21.634902 Elapsed : 20.15 (with UDF)\n",
    "#[1.5.0] 2015-09-05 10:26:40.064432 Elapsed : 11.83 (with F.*)\n",
    "#[1.5.1] 2015-09-24 17:55:49.818042 Elapsed : 9.43 (with F.*)"
   ]
  },
  {
   "cell_type": "code",
   "execution_count": null,
   "metadata": {
    "collapsed": true
   },
   "outputs": [],
   "source": []
  }
 ],
 "metadata": {
  "kernelspec": {
   "display_name": "Python 2",
   "language": "python",
   "name": "python2"
  },
  "language_info": {
   "codemirror_mode": {
    "name": "ipython",
    "version": 2
   },
   "file_extension": ".py",
   "mimetype": "text/x-python",
   "name": "python",
   "nbconvert_exporter": "python",
   "pygments_lexer": "ipython2",
   "version": "2.7.10"
  }
 },
 "nbformat": 4,
 "nbformat_minor": 0
}
